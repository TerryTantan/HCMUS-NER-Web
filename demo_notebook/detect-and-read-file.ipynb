{
    "cells": [
        {
            "cell_type": "code",
            "execution_count": null,
            "metadata": {
                "_cell_guid": "b1076dfc-b9ad-4769-8c92-a6c4dae69d19",
                "_uuid": "8f2839f25d086af736a60e9eeb907d3b93b6e0e5",
                "trusted": true
            },
            "outputs": [],
            "source": [
                "!pip install PyMuPDF python-docx easyocr pywin32"
            ]
        },
        {
            "cell_type": "code",
            "execution_count": null,
            "metadata": {
                "trusted": true
            },
            "outputs": [],
            "source": [
                "import os\n",
                "import numpy as np\n",
                "import pymupdf \n",
                "import cv2\n",
                "import easyocr\n",
                "from docx import Document\n",
                "from docx.oxml.ns import qn\n",
                "import subprocess\n",
                "import tempfile\n",
                "import platform\n",
                "import io\n",
                "import zipfile\n",
                "import tempfile\n",
                "from PIL import Image\n",
                "import win32com.client"
            ]
        },
        {
            "cell_type": "code",
            "execution_count": null,
            "metadata": {
                "trusted": true
            },
            "outputs": [],
            "source": [
                "def ProcessFile(file_path):\n",
                "    if not os.path.exists(file_path):\n",
                "        print(f\"Error: File '{file_path}' does not exist.\")\n",
                "        return\n",
                "\n",
                "    ext = os.path.splitext(file_path)[1].lower()\n",
                "    file = None\n",
                "    \n",
                "    if ext == '.pdf':\n",
                "        file = ProcessPdf(file_path)\n",
                "    elif ext == '.docx':\n",
                "        file = ProcessDocx(file_path)\n",
                "    elif ext == '.doc':\n",
                "        docx_path = ConvertDocToPdf(file_path)\n",
                "        if docx_path:\n",
                "            file = ProcessPdf(docx_path)\n",
                "            try:\n",
                "                os.remove(docx_path)\n",
                "            except Exception as e:\n",
                "                print(f\"Warning: Could not delete temporary file {docx_path}: {e}\")\n",
                "    else:\n",
                "        print(f\"Error: Unsupported file format '{ext}'\")\n",
                "\n",
                "    return file"
            ]
        },
        {
            "cell_type": "code",
            "execution_count": null,
            "metadata": {
                "trusted": true
            },
            "outputs": [],
            "source": [
                "def ConvertDocToPdf(doc_path):\n",
                "    doc_path = os.path.abspath(doc_path)\n",
                "    \n",
                "    temp_dir = tempfile.gettempdir()\n",
                "    temp_filename = next(tempfile._get_candidate_names()) + \".pdf\"\n",
                "    temp_pdf_path = os.path.join(temp_dir, temp_filename)\n",
                "    \n",
                "    system = platform.system()\n",
                "    \n",
                "    if system == \"Windows\":\n",
                "        ConvertWithWindows(doc_path, temp_pdf_path)\n",
                "    else:\n",
                "        ConvertWithLibreOffice(doc_path, temp_pdf_path)\n",
                "    \n",
                "    if os.path.exists(temp_pdf_path):\n",
                "        return temp_pdf_path\n",
                "    else:\n",
                "        raise Exception(\"PDF conversion failed: output file not found\")"
            ]
        },
        {
            "cell_type": "code",
            "execution_count": null,
            "metadata": {
                "trusted": true
            },
            "outputs": [],
            "source": [
                "def ConvertWithWindows(doc_path, pdf_path):\n",
                "    \n",
                "    word = win32com.client.Dispatch(\"Word.Application\")\n",
                "    word.Visible = False\n",
                "    \n",
                "    try:\n",
                "        doc = word.Documents.Open(doc_path)\n",
                "        \n",
                "        doc.SaveAs(pdf_path, FileFormat=17)\n",
                "        \n",
                "        doc.Close()\n",
                "    except Exception as e:\n",
                "        raise Exception(f\"Error converting document with Word: {e}\")\n",
                "    finally:\n",
                "        word.Quit()\n",
                "\n",
                "def ConvertWithLibreOffice(doc_path, pdf_path):\n",
                "    output_dir = os.path.dirname(pdf_path)\n",
                "    \n",
                "    libreoffice_paths = [\"libreoffice\", \"soffice\"]\n",
                "    libreoffice = None\n",
                "    \n",
                "    for path in libreoffice_paths:\n",
                "        try:\n",
                "            subprocess.run([path, \"--version\"], stdout=subprocess.PIPE, stderr=subprocess.PIPE)\n",
                "            libreoffice = path\n",
                "            break\n",
                "        except FileNotFoundError:\n",
                "            continue\n",
                "    \n",
                "    if libreoffice is None:\n",
                "        raise Exception(\"LibreOffice not found. Please install LibreOffice to convert .doc files.\")\n",
                "    \n",
                "    process = subprocess.run([\n",
                "        libreoffice,\n",
                "        \"--headless\",\n",
                "        \"--convert-to\", \"pdf\",\n",
                "        \"--outdir\", output_dir,\n",
                "        doc_path\n",
                "    ], stdout=subprocess.PIPE, stderr=subprocess.PIPE)\n",
                "    \n",
                "    if process.returncode != 0:\n",
                "        raise Exception(f\"LibreOffice conversion failed: {process.stderr.decode('utf-8')}\")\n",
                "    \n",
                "    expected_filename = os.path.splitext(os.path.basename(doc_path))[0] + \".pdf\"\n",
                "    actual_pdf_path = os.path.join(output_dir, expected_filename)\n",
                "    \n",
                "    if os.path.exists(actual_pdf_path) and actual_pdf_path != pdf_path:\n",
                "        os.rename(actual_pdf_path, pdf_path)"
            ]
        },
        {
            "cell_type": "code",
            "execution_count": null,
            "metadata": {
                "trusted": true
            },
            "outputs": [],
            "source": [
                "def ExtractTextFromPdf(page):\n",
                "    words = page.get_text(\"words\")\n",
                "    return [word[4] for word in words]"
            ]
        },
        {
            "cell_type": "code",
            "execution_count": null,
            "metadata": {
                "trusted": true
            },
            "outputs": [],
            "source": [
                "def ExtractTextFromDocx(doc):\n",
                "    texts = []\n",
                "    for para in doc.paragraphs:\n",
                "        for run in para.runs:\n",
                "            text = run.text\n",
                "            if text:\n",
                "                texts.append(text)\n",
                "    return texts"
            ]
        },
        {
            "cell_type": "code",
            "execution_count": null,
            "metadata": {
                "trusted": true
            },
            "outputs": [],
            "source": [
                "def DetectFace(image_np):\n",
                "    face_cascade = cv2.CascadeClassifier(cv2.data.haarcascades + 'haarcascade_frontalface_default.xml')\n",
                "\n",
                "    gray = cv2.cvtColor(image_np, cv2.COLOR_RGB2GRAY)\n",
                "    \n",
                "    faces = face_cascade.detectMultiScale(\n",
                "        gray,\n",
                "        scaleFactor=1.1,\n",
                "        minNeighbors=5,\n",
                "        minSize=(30, 30)\n",
                "    )\n",
                "    \n",
                "    return len(faces) > 0"
            ]
        },
        {
            "cell_type": "code",
            "execution_count": null,
            "metadata": {
                "trusted": true
            },
            "outputs": [],
            "source": [
                "def ocr(image_data, reader=None):\n",
                "    if reader is None:\n",
                "        reader = easyocr.Reader(['en'], gpu=False)  \n",
                "    image = Image.open(io.BytesIO(image_data))\n",
                "    image_np = np.array(image)\n",
                "    \n",
                "    has_face = DetectFace(image_np)\n",
                "    \n",
                "    ocr_results = reader.readtext(image_np, detail=0)\n",
                "    ocr_text = \" \".join(ocr_results).strip() if ocr_results else \"No text detected in image\"\n",
                "    \n",
                "    return ocr_text, reader, has_face"
            ]
        },
        {
            "cell_type": "code",
            "execution_count": null,
            "metadata": {
                "trusted": true
            },
            "outputs": [],
            "source": [
                "def ProcessPdf(pdf_path):\n",
                "    try:\n",
                "        doc = pymupdf.open(pdf_path)\n",
                "        extracted_text = []\n",
                "        ocr_results = []\n",
                "        ocr_reader = None\n",
                "        img_index = 0\n",
                "        \n",
                "        for page_num in range(len(doc)):\n",
                "            page = doc.load_page(page_num)\n",
                "            page_text = ExtractTextFromPdf(page)\n",
                "            images = page.get_images(full=True)\n",
                "            \n",
                "            extracted_text.append(\" \".join(page_text) if page_text else \"No text found.\")\n",
                "            \n",
                "            for img in images: \n",
                "                xref = img[0]\n",
                "                try:\n",
                "                    base_image = doc.extract_image(xref)\n",
                "                    if base_image:  \n",
                "                        ocr_text, ocr_reader, has_face = ocr(base_image[\"image\"], ocr_reader)\n",
                "                        ocr_results.append({\n",
                "                            \"page\": page_num + 1,\n",
                "                            \"image_index\": img_index,\n",
                "                            \"text\": ocr_text,\n",
                "                            \"has_face\": has_face\n",
                "                        })\n",
                "                        img_index += 1\n",
                "                except Exception as img_error:\n",
                "                    print(f\"Error extracting image {xref} on page {page_num + 1}: {img_error}\")\n",
                "                    continue\n",
                "        \n",
                "        doc.close()\n",
                "        return extracted_text, ocr_results\n",
                "    \n",
                "    except Exception as e:\n",
                "        print(f\"Error processing PDF: {e}\")\n",
                "        return [], []"
            ]
        },
        {
            "cell_type": "code",
            "execution_count": null,
            "metadata": {
                "trusted": true
            },
            "outputs": [],
            "source": [
                "def ProcessDocx(docx_path):\n",
                "    try:\n",
                "        doc = Document(docx_path)\n",
                "        extracted_text = []\n",
                "        ocr_results = []\n",
                "        ocr_reader = None\n",
                "        img_index = 0  \n",
                "        \n",
                "        page_text = ExtractTextFromDocx(doc)\n",
                "        extracted_text.append(\" \".join(page_text) if page_text else \"No Text Found.\")\n",
                "        \n",
                "        with zipfile.ZipFile(docx_path, 'r') as zip_ref:\n",
                "            for file in zip_ref.namelist():\n",
                "                if file.startswith('word/media/'):\n",
                "                    with zip_ref.open(file) as img_file:\n",
                "                        image_data = img_file.read()\n",
                "                        ocr_text, ocr_readerreader , has_face = ocr(image_data, ocr_reader)\n",
                "                        \n",
                "                        ocr_results.append({\n",
                "                            \"image_index\": img_index,  #start from 0 \n",
                "                            \"text\": ocr_text,\n",
                "                            \"has_face\": has_face\n",
                "                        })\n",
                "                        img_index += 1\n",
                "        \n",
                "        return extracted_text, ocr_results\n",
                "            \n",
                "    except Exception as e:\n",
                "        print(f\"ERROR processing DOCX: {e}\")\n",
                "        return [], []"
            ]
        },
        {
            "cell_type": "code",
            "execution_count": null,
            "metadata": {
                "trusted": true
            },
            "outputs": [],
            "source": [
                "if __name__ == \"__main__\":\n",
                "    file_path = \"/kaggle/input/testing-files/test_pdf.pdf\" \n",
                "    file = ProcessFile(file_path)\n",
                "    print(file)"
            ]
        },
        {
            "cell_type": "code",
            "execution_count": null,
            "metadata": {
                "trusted": true
            },
            "outputs": [],
            "source": []
        }
    ],
    "metadata": {
        "kaggle": {
            "accelerator": "none",
            "dataSources": [
                {
                    "datasetId": 7324490,
                    "sourceId": 11671086,
                    "sourceType": "datasetVersion"
                }
            ],
            "dockerImageVersionId": 31012,
            "isGpuEnabled": false,
            "isInternetEnabled": true,
            "language": "python",
            "sourceType": "notebook"
        },
        "kernelspec": {
            "display_name": "py310-env",
            "language": "python",
            "name": "python3"
        },
        "language_info": {
            "codemirror_mode": {
                "name": "ipython",
                "version": 3
            },
            "file_extension": ".py",
            "mimetype": "text/x-python",
            "name": "python",
            "nbconvert_exporter": "python",
            "pygments_lexer": "ipython3",
            "version": "3.10.16"
        }
    },
    "nbformat": 4,
    "nbformat_minor": 4
}